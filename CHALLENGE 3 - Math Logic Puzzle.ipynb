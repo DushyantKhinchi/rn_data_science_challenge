{
 "cells": [
  {
   "cell_type": "markdown",
   "id": "patent-plumbing",
   "metadata": {},
   "source": [
    "## CHALLENGE 3: Math Logic Puzzle\n",
    "\n",
    "I have a puzzle for you from the field of mathematics in the form of a game. A secret list contains a random permutation of the numbers from 0 to 49. 50 Data Scientists are invited to participate in this game. They will win together or lose together. The Data Scientists are numbered from 0 to 49. Each Data Scientist has the same objective. To find their number in the list by investigating a sequence of up to 25 indices. If one of the 25 indices they choose to examine contains their number, then that Data Scientist has passed their portion of the challenge. In order to win, all 50 Data Scientists must find the index that contains their number within 25 guesses. The Data Scientist can agree on a strategy before the game starts. But once the game starts the data scientists can not communicate with each other.\n",
    "<br>\n",
    "\n",
    "The best chance at success that any single Data Scientist can reach is 50%, which can be achieved by randomly selecting 25 indices. If all 50 Data Scientists do a random strategy however, the probability they win the game is only 0.5^50 which is a very minuscule chance.\n",
    "<br>\n",
    "<br>\n",
    "\n",
    "To model this game, I've created class `Game` that can be initiated by calling `game = Game()`. Once initiated, the secret list will be set.\n",
    "<br>\n",
    "\n",
    "A strategy is modeled as a function that takes two arguments:\n",
    "\n",
    "    - contestants_number: this is the number that the data scientist is searching for\n",
    "    - prior_attempts: this is a DataFrame containing the previously investigated_indices that the data scientist has examined and the values found at those indices.\n",
    "and returns:\n",
    "\n",
    "    - next_index_to_investigate: the next index the dta scientist wants to investigate\n",
    "<br>\n",
    "\n",
    "As an example I have defined `example_random_strategy` which implements the random strategy. A strategy can be played on the game by passing it to `game.play()`. Out of 1000 trials at the game, the random strategy never succeeds.\n",
    "<br>\n",
    "\n",
    "Can you find a better strategy? Implement it in the `your_strategy` function.\n",
    "<br>\n",
    "\n",
    "Hint: The optimal strategy will give the team of Data Scientists over 25% chance of winning and can be easily implented with just 4 simple lines of code.\n",
    "\n"
   ]
  },
  {
   "cell_type": "code",
   "execution_count": null,
   "id": "objective-thomson",
   "metadata": {},
   "outputs": [],
   "source": [
    "import pandas as pd\n",
    "import numpy as np"
   ]
  },
  {
   "cell_type": "code",
   "execution_count": null,
   "id": "seventh-decision",
   "metadata": {},
   "outputs": [],
   "source": [
    "class Game:    \n",
    "    def __init__(self):\n",
    "        # initiate a new secret list with a fresh permutation of the numbers from 0 to 499\n",
    "        self.__secret_list = list(np.random.choice(50, 50, replace=False))\n",
    "        # initially you have made no guesses. Each new guess is logged in attempts as the index_checked, the prediction, and the revealed_value\n",
    "            \n",
    "    def play(self, strategy):\n",
    "        for contestants_number in range(50):\n",
    "            contestant_succeeded = False\n",
    "            n_attempts = 0\n",
    "            prior_attempts = pd.DataFrame(columns=['investigated_index', 'secret_value'])\n",
    "            while (n_attempts < 25) and not contestant_succeeded:\n",
    "                next_index = strategy(contestants_number, prior_attempts)\n",
    "                secret_value = self.__secret_list[next_index]\n",
    "                contestant_succeeded = (secret_value == contestants_number)\n",
    "                prior_attempts.loc[n_attempts, :] = (next_index, secret_value)\n",
    "                n_attempts += 1\n",
    "            if not contestant_succeeded:\n",
    "                break\n",
    "        return contestant_succeeded"
   ]
  },
  {
   "cell_type": "code",
   "execution_count": null,
   "id": "acceptable-composer",
   "metadata": {},
   "outputs": [],
   "source": [
    "def example_random_strategy(contestants_number, prior_attempts):\n",
    "    all_indices = set(range(50))\n",
    "    previously_investigated_indices = set(prior_attempts.investigated_index.values)\n",
    "    remaining_indices = all_indices - previously_investigated_indices\n",
    "    return np.random.choice(list(remaining_indices), 1)[0]"
   ]
  },
  {
   "cell_type": "code",
   "execution_count": null,
   "id": "terminal-audit",
   "metadata": {},
   "outputs": [],
   "source": [
    "# example how to instantiate the game and submit strategy. Returned value will indicate if you won or not\n",
    "game = Game()\n",
    "game.play(example_random_strategy)"
   ]
  },
  {
   "cell_type": "code",
   "execution_count": null,
   "id": "fabulous-cloud",
   "metadata": {},
   "outputs": [],
   "source": [
    "results=[]\n",
    "for trial in range(1000):\n",
    "    game = Game()\n",
    "    results.append(game.play(example_random_strategy))\n",
    "    \n",
    "pd.Series(results).mean()"
   ]
  },
  {
   "cell_type": "code",
   "execution_count": null,
   "id": "attractive-communist",
   "metadata": {},
   "outputs": [],
   "source": [
    "def your_strategy(contestants_number, prior_attempts):\n",
    "    # can you come up with a good strategy\n",
    "    return next_index"
   ]
  },
  {
   "cell_type": "code",
   "execution_count": null,
   "id": "muslim-purpose",
   "metadata": {},
   "outputs": [],
   "source": [
    "# lets assess your strategy\n",
    "results=[]\n",
    "for trial in range(1000):\n",
    "    game = Game()\n",
    "    results.append(game.play(your_strategy))\n",
    "    \n",
    "pd.Series(results).mean()"
   ]
  },
  {
   "cell_type": "code",
   "execution_count": null,
   "id": "laden-classic",
   "metadata": {},
   "outputs": [],
   "source": []
  },
  {
   "cell_type": "code",
   "execution_count": null,
   "id": "voluntary-leonard",
   "metadata": {},
   "outputs": [],
   "source": []
  },
  {
   "cell_type": "code",
   "execution_count": null,
   "id": "ongoing-melissa",
   "metadata": {},
   "outputs": [],
   "source": []
  }
 ],
 "metadata": {
  "language_info": {
   "name": "python",
   "pygments_lexer": "ipython3"
  }
 },
 "nbformat": 4,
 "nbformat_minor": 5
}
