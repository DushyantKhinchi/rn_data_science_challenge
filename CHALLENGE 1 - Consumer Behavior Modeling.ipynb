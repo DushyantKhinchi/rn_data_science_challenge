{
 "cells": [
  {
   "cell_type": "markdown",
   "id": "verified-baghdad",
   "metadata": {},
   "source": [
    "## CHALLENGE 1: Consumer Behavior Modeling\n",
    "#### The Data\n",
    "The <b>\"challenge1__consumers.gz\"</b> file contains abstract demographic information for just over 240,000 hypothetical consumers. Each row represents a single consumer. Columns:\n",
    "\n",
    "    - consumer_id: Unique identifier for each consumer\n",
    "    - gender: encoding of consumer gender as 0 or 1 (labels not important)\n",
    "    - partner: encoding of the partner (e.g. United Airlines vs Hilton Hotels) to which the consumer belongs (0 to 10, labels not important).\n",
    "    - marketplace: encoding of the marketplace (e.g. NYC MSA vs Dallas MSA) to which the consumer belongs (0 to 10, labels not important).\n",
    "    - join_dt: the date the consumer joined Rewards Network\n",
    "    - churn_dt: if a consumer formally deletes their account, this is the effective date of that deletion. (We stop tracking their dines after this date, and they recieve no bonuses after this date). Null indicates the consumer is still a member of the program as of Jan \n",
    "<br>\n",
    "The <b>\"challenge1__consumer_dines.gz\"</b> file contains 10 years of hypothetical daily dining events from the consumers described in \"challenge1__consumers.csv\". Each row represents a single dine. Columns:\n",
    "\n",
    "    - consumer_id: Unique identifier for each consumer\n",
    "    - dine_dt: The date on which the consumer made a purchase at any restaurant on our platform"
   ]
  },
  {
   "cell_type": "markdown",
   "id": "disturbed-studio",
   "metadata": {},
   "source": [
    "#### PROBLEM 1.1: Explore the data\n",
    "Data Scientists are perputaul explorers. We look for patterns in data. What patterns can you find in this consumer behavior data? \n",
    "- Find 3 insights you find interesting.\n",
    "- Visualize these insights and discuss why you think they are valuable."
   ]
  },
  {
   "cell_type": "code",
   "execution_count": null,
   "id": "working-consistency",
   "metadata": {},
   "outputs": [],
   "source": [
    "import pandas as pd\n",
    "import seaborn as sns\n",
    "\n",
    "consumers = pd.read_pickle('datasets/challenge1__consumers.gz')\n",
    "consumer_dines = pd.read_pickle('datasets/challenge1__dines.gz')"
   ]
  },
  {
   "cell_type": "code",
   "execution_count": null,
   "id": "stock-stereo",
   "metadata": {},
   "outputs": [],
   "source": [
    "consumers.head()"
   ]
  },
  {
   "cell_type": "code",
   "execution_count": null,
   "id": "precise-conviction",
   "metadata": {},
   "outputs": [],
   "source": [
    "consumer_dines.head()"
   ]
  },
  {
   "cell_type": "code",
   "execution_count": null,
   "id": "foreign-calibration",
   "metadata": {},
   "outputs": [],
   "source": []
  },
  {
   "cell_type": "code",
   "execution_count": null,
   "id": "unexpected-globe",
   "metadata": {},
   "outputs": [],
   "source": []
  },
  {
   "cell_type": "markdown",
   "id": "widespread-violin",
   "metadata": {},
   "source": [
    "#### PROBLEM 1.2: Predict Consumer Behavior\n",
    "As a marketplace operator, estimating consumer behaviors are core to Rewards Network's success. We'd like you to build a model to predict which consumers will dine in the month of January 2020.\n",
    "<br>\n",
    "\n",
    "- Save your model to a pickle <b>\"results/challenge1__model.pkl\"</b> so we can quickly re-load the learned parameters\n",
    "- Export your final predictions to a csv <b>\"results/challenge1__prediction.csv\"</b> with the following columns:\n",
    "\n",
    "\n",
    "    - consumer_id: include all consumers that have a null churn date\n",
    "    - prediction: 1 indicates your model predicts the consumer will dine in the month of Jan 2020, 0 indicates your model predicts they will not dine in that month\n",
    "    - probability: 0-1 indicates the likelihood you model assigned to the probability that that consumer will dine in the month of January 2020\n",
    "\n",
    "- In your work below, be sure to demonstrate:\n",
    "    - Splitting data into training, validation, and testing sets.\n",
    "    - How you assess model performance\n",
    "    - What insights can you draw from your final modle\n",
    " \n",
    " - Whether you initial model was good or bad, please explain what your next steps would be if you wanted to improve performance. Do not feel obligated to perform these steps\n"
   ]
  },
  {
   "cell_type": "code",
   "execution_count": null,
   "id": "suburban-crack",
   "metadata": {},
   "outputs": [],
   "source": []
  },
  {
   "cell_type": "code",
   "execution_count": null,
   "id": "stupid-chambers",
   "metadata": {},
   "outputs": [],
   "source": []
  }
 ],
 "metadata": {
  "language_info": {
   "name": "python",
   "pygments_lexer": "ipython3"
  }
 },
 "nbformat": 4,
 "nbformat_minor": 5
}
